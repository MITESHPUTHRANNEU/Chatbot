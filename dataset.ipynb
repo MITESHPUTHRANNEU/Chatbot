{
 "cells": [
  {
   "cell_type": "markdown",
   "metadata": {},
   "source": [
    "## Importing the required libraries"
   ]
  },
  {
   "cell_type": "code",
   "execution_count": 61,
   "metadata": {
    "collapsed": true
   },
   "outputs": [],
   "source": [
    "import pandas as pd\n",
    "import numpy as np\n",
    "import os\n",
    "import re\n",
    "from datetime import datetime\n",
    "from itertools import islice"
   ]
  },
  {
   "cell_type": "code",
   "execution_count": 2,
   "metadata": {
    "collapsed": true
   },
   "outputs": [],
   "source": [
    "# setting the name here to differentiate between the sent message and the response from the data\n",
    "personName = 'Mitesh Puthran'"
   ]
  },
  {
   "cell_type": "markdown",
   "metadata": {},
   "source": [
    "## Reading the data from file"
   ]
  },
  {
   "cell_type": "code",
   "execution_count": 3,
   "metadata": {
    "collapsed": true
   },
   "outputs": [],
   "source": [
    "# Eva.txt is the file which contains all the conversation which was downloaded from whatsapp in the form of text \n",
    "fbFile = open('Eva.txt', 'r',encoding='utf-8') \n",
    "content = fbFile.readlines()\n"
   ]
  },
  {
   "cell_type": "code",
   "execution_count": 56,
   "metadata": {
    "scrolled": true
   },
   "outputs": [
    {
     "data": {
      "text/plain": [
       "['10/14/16, 17:14] Messages to this chat and calls are now secured with end-to-end encryption. Tap for more info.\\n',\n",
       " '10/14/16, 17:14] Mitesh Puthran: Hey\\n',\n",
       " '10/14/16, 17:14] Mitesh Puthran: Did you start with the assignment?\\n',\n",
       " '10/14/16, 17:14] Eveee: Yeah\\n',\n",
       " '10/14/16, 17:14] Mitesh Puthran: Great\\n']"
      ]
     },
     "execution_count": 56,
     "metadata": {},
     "output_type": "execute_result"
    }
   ],
   "source": [
    "# getting a glimpse of the data\n",
    "content[:5]"
   ]
  },
  {
   "cell_type": "markdown",
   "metadata": {},
   "source": [
    "## Data pre-processing"
   ]
  },
  {
   "cell_type": "code",
   "execution_count": 6,
   "metadata": {
    "collapsed": true
   },
   "outputs": [],
   "source": [
    "# Writing a function to clean the data of unecessary symbols and punctuations as they try to interfere with word embeddings\n",
    "\n",
    "def cleanMessage(message):\n",
    "# Remove new lines within message\n",
    "    cleanedMessage = message.replace('\\n',' ').lower()\n",
    "# Deal with some weird tokens\n",
    "    cleanedMessage = cleanedMessage.replace(\"\\xc2\\xa0\", \"\")\n",
    "# Remove punctuation\n",
    "    cleanedMessage = re.sub('([.,!?])','', cleanedMessage)\n",
    "# Remove multiple spaces in message\n",
    "    cleanedMessage = re.sub(' +',' ', cleanedMessage)\n",
    "    return cleanedMessage"
   ]
  },
  {
   "cell_type": "code",
   "execution_count": 51,
   "metadata": {
    "collapsed": true
   },
   "outputs": [],
   "source": [
    "# function to seperate out the indiviual conversations from the file as they have different timestamps which is not required.\n",
    "\n",
    "def getData():\n",
    "    responseDictionary = {}\n",
    "    myMessage, otherPersonsMessage, currentSpeaker = \"\",\"\",\"\"\n",
    "    for index,lines in enumerate(content):\n",
    "        rightBracket = lines.find(']') + 2\n",
    "        justMessage = lines[rightBracket:]\n",
    "        colon = justMessage.find(':')\n",
    "        if(justMessage[:colon] == personName):\n",
    "            if not myMessage:\n",
    "                startMessageIndex = index - 1\n",
    "            myMessage += justMessage[colon+2:]\n",
    "        elif myMessage:\n",
    "            for counter in range(startMessageIndex, 0, -1):\n",
    "                currentLine = content[counter]\n",
    "                rightBracket = currentLine.find(']') + 2\n",
    "                justMessage = currentLine[rightBracket:]\n",
    "                colon = justMessage.find(':')\n",
    "                if not currentSpeaker:\n",
    "                    currentSpeaker = justMessage[:colon]\n",
    "                elif (currentSpeaker != justMessage[:colon] and otherPersonsMessage):\n",
    "                    otherPersonsMessage = cleanMessage(otherPersonsMessage)\n",
    "                    myMessage = cleanMessage(myMessage)\n",
    "                    responseDictionary[otherPersonsMessage] = myMessage\n",
    "                    break\n",
    "                otherPersonsMessage = justMessage[colon+2:] + otherPersonsMessage\n",
    "            myMessage, otherPersonsMessage, currentSpeaker = \"\",\"\",\"\"\n",
    "    return responseDictionary"
   ]
  },
  {
   "cell_type": "markdown",
   "metadata": {},
   "source": [
    "## Dictionary Data "
   ]
  },
  {
   "cell_type": "code",
   "execution_count": 52,
   "metadata": {
    "collapsed": true
   },
   "outputs": [],
   "source": [
    "combinedDictionary = {}"
   ]
  },
  {
   "cell_type": "code",
   "execution_count": 53,
   "metadata": {},
   "outputs": [
    {
     "name": "stdout",
     "output_type": "stream",
     "text": [
      "Getting Whatsapp Data\n"
     ]
    }
   ],
   "source": [
    "# putting the seperated conversations in the dictionary as key value pair\n",
    "print ('Getting Whatsapp Data')\n",
    "combinedDictionary.update(getData())"
   ]
  },
  {
   "cell_type": "code",
   "execution_count": 64,
   "metadata": {
    "collapsed": true
   },
   "outputs": [],
   "source": [
    "# defining a function to see the dictonary data\n",
    "def take(n, iterable):\n",
    "    return list(islice(iterable, n))"
   ]
  },
  {
   "cell_type": "code",
   "execution_count": 67,
   "metadata": {},
   "outputs": [
    {
     "data": {
      "text/plain": [
       "[('yeah ',\n",
       "  \"sure will let you know <media omitted> only when you think northeastern couldn't get anymore weirder \"),\n",
       " ('i think so did you start ',\n",
       "  'yes i did but i am getting errors while inserting data in the tables ')]"
      ]
     },
     "execution_count": 67,
     "metadata": {},
     "output_type": "execute_result"
    }
   ],
   "source": [
    "n_items = take(2, combinedDictionary.items())\n",
    "n_items"
   ]
  },
  {
   "cell_type": "code",
   "execution_count": 14,
   "metadata": {},
   "outputs": [
    {
     "name": "stdout",
     "output_type": "stream",
     "text": [
      "Total len of dictionary 4349\n"
     ]
    }
   ],
   "source": [
    "print('Total len of dictionary', len(combinedDictionary))"
   ]
  },
  {
   "cell_type": "code",
   "execution_count": 15,
   "metadata": {},
   "outputs": [
    {
     "name": "stdout",
     "output_type": "stream",
     "text": [
      "Saving conversation data dictionary\n"
     ]
    }
   ],
   "source": [
    "print('Saving conversation data dictionary')\n",
    "np.save('conversationDictionary.npy', combinedDictionary)"
   ]
  },
  {
   "cell_type": "code",
   "execution_count": 17,
   "metadata": {
    "collapsed": true
   },
   "outputs": [],
   "source": [
    "conversationFile = open('conversationData.txt', 'w',encoding='utf-8')\n",
    "for key,value in combinedDictionary.items():\n",
    "    if (not key.strip() or not value.strip()):\n",
    "            continue\n",
    "    conversationFile.write(key.strip() + value.strip())\n",
    "\n"
   ]
  }
 ],
 "metadata": {
  "kernelspec": {
   "display_name": "Python 3",
   "language": "python",
   "name": "python3"
  },
  "language_info": {
   "codemirror_mode": {
    "name": "ipython",
    "version": 3
   },
   "file_extension": ".py",
   "mimetype": "text/x-python",
   "name": "python",
   "nbconvert_exporter": "python",
   "pygments_lexer": "ipython3",
   "version": "3.6.2"
  }
 },
 "nbformat": 4,
 "nbformat_minor": 2
}
